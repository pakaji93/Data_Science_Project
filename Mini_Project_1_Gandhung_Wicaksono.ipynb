{
  "nbformat": 4,
  "nbformat_minor": 0,
  "metadata": {
    "colab": {
      "provenance": [],
      "authorship_tag": "ABX9TyMkMIrhTkkCPmS8KnCRUzpj",
      "include_colab_link": true
    },
    "kernelspec": {
      "name": "python3",
      "display_name": "Python 3"
    },
    "language_info": {
      "name": "python"
    }
  },
  "cells": [
    {
      "cell_type": "markdown",
      "metadata": {
        "id": "view-in-github",
        "colab_type": "text"
      },
      "source": [
        "<a href=\"https://colab.research.google.com/github/pakaji93/Data_Science_Project/blob/main/Mini_Project_1_Gandhung_Wicaksono.ipynb\" target=\"_parent\"><img src=\"https://colab.research.google.com/assets/colab-badge.svg\" alt=\"Open In Colab\"/></a>"
      ]
    },
    {
      "cell_type": "code",
      "source": [
        "dataTraffic = [{'date':'2014-01-01','device':[{'Chrome':900},{'Firefox':692},{'Opera':35},{'Internet Explorer':484},{'Android Browser':969}]},\n",
        "               {'date':'2014-01-02','device':[{'Chrome':878},{'Firefox':412},{'Opera':23},{'Internet Explorer':221},{'Android Browser':412}]},\n",
        "               {'date':'2014-01-03','device':[{'Chrome':573},{'Firefox':673},{'Opera':87},{'Internet Explorer':876},{'Android Browser':645}]},\n",
        "               {'date':'2014-01-04','device':[{'Chrome':341},{'Firefox':331},{'Opera':23},{'Internet Explorer':321},{'Android Browser':313}]},\n",
        "               {'date':'2014-01-05','device':[{'Chrome':908},{'Firefox':114},{'Opera':43},{'Internet Explorer':871},{'Android Browser':563}]},\n",
        "               {'date':'2014-01-06','device':[{'Chrome':781},{'Firefox':908},{'Opera':41},{'Internet Explorer':983},{'Android Browser':542}]},\n",
        "               {'date':'2014-01-07','device':[{'Chrome':1190},{'Firefox':876},{'Opera':44},{'Internet Explorer':211},{'Android Browser':435}]},\n",
        "               {'date':'2014-01-08','device':[{'Chrome':452},{'Firefox':653},{'Opera':25},{'Internet Explorer':537},{'Android Browser':232}]},\n",
        "               {'date':'2014-01-09','device':[{'Chrome':782},{'Firefox':231},{'Opera':89},{'Internet Explorer':873},{'Android Browser':124}]},\n",
        "               {'date':'2014-01-10','device':[{'Chrome':764},{'Firefox':532},{'Opera':89},{'Internet Explorer':901},{'Android Browser':1163}]}]"
      ],
      "metadata": {
        "id": "YCVP3V04MqAw"
      },
      "execution_count": null,
      "outputs": []
    },
    {
      "cell_type": "code",
      "source": [
        "class DataPreparation:\n",
        "  def __init__(self, input):\n",
        "    self.input = input\n",
        "  \n",
        "  def process(self):\n",
        "    output = []\n",
        "\n",
        "    for data in self.input:\n",
        "      for dvc in data['device']:\n",
        "        name_dvc = list(dvc.keys())[0] #1\n",
        "        values_dvc = list(dvc.values())[0] #2\n",
        "        output.append({'date':data['date'], 'device':name_dvc, 'visit': values_dvc})\n",
        "    return output\n",
        "\n",
        "  def aggregate(self):\n",
        "    output = []\n",
        "\n",
        "    for data in self.input:\n",
        "      trafficSum = 0\n",
        "      for dvc in data['device']:\n",
        "        # name_dvc = list(dvc.keys())[0]\n",
        "        trafficSum = trafficSum + list(dvc.values())[0]\n",
        "      output.append({'date':data['date'], 'traffic': trafficSum})\n",
        "    return output\n",
        "\n",
        "\n",
        "ResultTraffic = DataPreparation(dataTraffic).process()\n",
        "AggregasiTraffic = DataPreparation(dataTraffic).aggregate()"
      ],
      "metadata": {
        "id": "pwkK-tw4DVnm"
      },
      "execution_count": null,
      "outputs": []
    },
    {
      "cell_type": "code",
      "source": [
        "ResultTraffic"
      ],
      "metadata": {
        "colab": {
          "base_uri": "https://localhost:8080/"
        },
        "id": "7-1r7bv6Q_HY",
        "outputId": "f07a2869-d0bf-43dc-e763-e21687a85408"
      },
      "execution_count": null,
      "outputs": [
        {
          "output_type": "execute_result",
          "data": {
            "text/plain": [
              "[{'date': '2014-01-01', 'device': 'Chrome', 'visit': 900},\n",
              " {'date': '2014-01-01', 'device': 'Firefox', 'visit': 692},\n",
              " {'date': '2014-01-01', 'device': 'Opera', 'visit': 35},\n",
              " {'date': '2014-01-01', 'device': 'Internet Explorer', 'visit': 484},\n",
              " {'date': '2014-01-01', 'device': 'Android Browser', 'visit': 969},\n",
              " {'date': '2014-01-02', 'device': 'Chrome', 'visit': 878},\n",
              " {'date': '2014-01-02', 'device': 'Firefox', 'visit': 412},\n",
              " {'date': '2014-01-02', 'device': 'Opera', 'visit': 23},\n",
              " {'date': '2014-01-02', 'device': 'Internet Explorer', 'visit': 221},\n",
              " {'date': '2014-01-02', 'device': 'Android Browser', 'visit': 412},\n",
              " {'date': '2014-01-03', 'device': 'Chrome', 'visit': 573},\n",
              " {'date': '2014-01-03', 'device': 'Firefox', 'visit': 673},\n",
              " {'date': '2014-01-03', 'device': 'Opera', 'visit': 87},\n",
              " {'date': '2014-01-03', 'device': 'Internet Explorer', 'visit': 876},\n",
              " {'date': '2014-01-03', 'device': 'Android Browser', 'visit': 645},\n",
              " {'date': '2014-01-04', 'device': 'Chrome', 'visit': 341},\n",
              " {'date': '2014-01-04', 'device': 'Firefox', 'visit': 331},\n",
              " {'date': '2014-01-04', 'device': 'Opera', 'visit': 23},\n",
              " {'date': '2014-01-04', 'device': 'Internet Explorer', 'visit': 321},\n",
              " {'date': '2014-01-04', 'device': 'Android Browser', 'visit': 313},\n",
              " {'date': '2014-01-05', 'device': 'Chrome', 'visit': 908},\n",
              " {'date': '2014-01-05', 'device': 'Firefox', 'visit': 114},\n",
              " {'date': '2014-01-05', 'device': 'Opera', 'visit': 43},\n",
              " {'date': '2014-01-05', 'device': 'Internet Explorer', 'visit': 871},\n",
              " {'date': '2014-01-05', 'device': 'Android Browser', 'visit': 563},\n",
              " {'date': '2014-01-06', 'device': 'Chrome', 'visit': 781},\n",
              " {'date': '2014-01-06', 'device': 'Firefox', 'visit': 908},\n",
              " {'date': '2014-01-06', 'device': 'Opera', 'visit': 41},\n",
              " {'date': '2014-01-06', 'device': 'Internet Explorer', 'visit': 983},\n",
              " {'date': '2014-01-06', 'device': 'Android Browser', 'visit': 542},\n",
              " {'date': '2014-01-07', 'device': 'Chrome', 'visit': 1190},\n",
              " {'date': '2014-01-07', 'device': 'Firefox', 'visit': 876},\n",
              " {'date': '2014-01-07', 'device': 'Opera', 'visit': 44},\n",
              " {'date': '2014-01-07', 'device': 'Internet Explorer', 'visit': 211},\n",
              " {'date': '2014-01-07', 'device': 'Android Browser', 'visit': 435},\n",
              " {'date': '2014-01-08', 'device': 'Chrome', 'visit': 452},\n",
              " {'date': '2014-01-08', 'device': 'Firefox', 'visit': 653},\n",
              " {'date': '2014-01-08', 'device': 'Opera', 'visit': 25},\n",
              " {'date': '2014-01-08', 'device': 'Internet Explorer', 'visit': 537},\n",
              " {'date': '2014-01-08', 'device': 'Android Browser', 'visit': 232},\n",
              " {'date': '2014-01-09', 'device': 'Chrome', 'visit': 782},\n",
              " {'date': '2014-01-09', 'device': 'Firefox', 'visit': 231},\n",
              " {'date': '2014-01-09', 'device': 'Opera', 'visit': 89},\n",
              " {'date': '2014-01-09', 'device': 'Internet Explorer', 'visit': 873},\n",
              " {'date': '2014-01-09', 'device': 'Android Browser', 'visit': 124},\n",
              " {'date': '2014-01-10', 'device': 'Chrome', 'visit': 764},\n",
              " {'date': '2014-01-10', 'device': 'Firefox', 'visit': 532},\n",
              " {'date': '2014-01-10', 'device': 'Opera', 'visit': 89},\n",
              " {'date': '2014-01-10', 'device': 'Internet Explorer', 'visit': 901},\n",
              " {'date': '2014-01-10', 'device': 'Android Browser', 'visit': 1163}]"
            ]
          },
          "metadata": {},
          "execution_count": 4
        }
      ]
    },
    {
      "cell_type": "code",
      "source": [
        "AggregasiTraffic"
      ],
      "metadata": {
        "colab": {
          "base_uri": "https://localhost:8080/"
        },
        "id": "gj-jXapYRVfZ",
        "outputId": "9cb29bb6-1af5-43a9-af0e-556d6f2fd0ba"
      },
      "execution_count": null,
      "outputs": [
        {
          "output_type": "execute_result",
          "data": {
            "text/plain": [
              "[{'date': '2014-01-01', 'traffic': 3080},\n",
              " {'date': '2014-01-02', 'traffic': 1946},\n",
              " {'date': '2014-01-03', 'traffic': 2854},\n",
              " {'date': '2014-01-04', 'traffic': 1329},\n",
              " {'date': '2014-01-05', 'traffic': 2499},\n",
              " {'date': '2014-01-06', 'traffic': 3255},\n",
              " {'date': '2014-01-07', 'traffic': 2756},\n",
              " {'date': '2014-01-08', 'traffic': 1899},\n",
              " {'date': '2014-01-09', 'traffic': 2099},\n",
              " {'date': '2014-01-10', 'traffic': 3449}]"
            ]
          },
          "metadata": {},
          "execution_count": 5
        }
      ]
    }
  ]
}