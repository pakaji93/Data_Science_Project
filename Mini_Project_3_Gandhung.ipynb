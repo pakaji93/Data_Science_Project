{
  "nbformat": 4,
  "nbformat_minor": 0,
  "metadata": {
    "colab": {
      "provenance": [],
      "authorship_tag": "ABX9TyNzslP2CHwzMhGkwjDisfGx",
      "include_colab_link": true
    },
    "kernelspec": {
      "name": "python3",
      "display_name": "Python 3"
    },
    "language_info": {
      "name": "python"
    }
  },
  "cells": [
    {
      "cell_type": "markdown",
      "metadata": {
        "id": "view-in-github",
        "colab_type": "text"
      },
      "source": [
        "<a href=\"https://colab.research.google.com/github/pakaji93/Data_Science_Project/blob/main/Mini_Project_3_Gandhung.ipynb\" target=\"_parent\"><img src=\"https://colab.research.google.com/assets/colab-badge.svg\" alt=\"Open In Colab\"/></a>"
      ]
    },
    {
      "cell_type": "markdown",
      "source": [
        "# Preparation"
      ],
      "metadata": {
        "id": "CWOgH9IuIzXf"
      }
    },
    {
      "cell_type": "code",
      "execution_count": null,
      "metadata": {
        "id": "_Fwoh47dHZFy"
      },
      "outputs": [],
      "source": [
        "import numpy as np\n",
        "import pandas as pd\n",
        "\n",
        "import matplotlib.pyplot as plt"
      ]
    },
    {
      "cell_type": "code",
      "source": [
        "from google.colab import auth\n",
        "auth.authenticate_user()\n",
        "\n",
        "import gspread\n",
        "from google.auth import default\n",
        "creds, _ = default()\n",
        "\n",
        "gc = gspread.authorize(creds)\n",
        "\n",
        "# read data dari google sheets untuk dijadikan dataframe\n",
        "\n",
        "gsheets = gc.open_by_url('https://docs.google.com/spreadsheets/d/1YfVPeOwgHwfqCTA81UZgfNTmSNMVFwvkvfaGmxB-dXI/edit#gid=1646824826')\n",
        "sheets = gsheets.worksheet('BankChurners').get_all_values()\n"
      ],
      "metadata": {
        "id": "RCYIOYFFJE9w"
      },
      "execution_count": null,
      "outputs": []
    },
    {
      "cell_type": "code",
      "source": [
        "df = pd.DataFrame(sheets)\n",
        "# df.head()"
      ],
      "metadata": {
        "id": "RKxMshD1MkLp"
      },
      "execution_count": null,
      "outputs": []
    },
    {
      "cell_type": "code",
      "source": [
        "df.set_axis(df.iloc[0], axis='columns', inplace=True)\n",
        "df.drop(0, inplace=True)\n",
        "df.reset_index(drop=True, inplace=True)\n",
        "df.head()"
      ],
      "metadata": {
        "colab": {
          "base_uri": "https://localhost:8080/",
          "height": 386
        },
        "id": "oIizsTYgNDa0",
        "outputId": "bc80ed34-74df-48cd-9499-cd4441e72492"
      },
      "execution_count": null,
      "outputs": [
        {
          "output_type": "execute_result",
          "data": {
            "text/plain": [
              "0  CLIENTNUM     Attrition_Flag Customer_Age Gender Dependent_count  \\\n",
              "0  768805383  Existing Customer           45      M               3   \n",
              "1  818770008  Existing Customer           49      F               5   \n",
              "2  713982108  Existing Customer           51      M               3   \n",
              "3  769911858  Existing Customer           40      F               4   \n",
              "4  709106358  Existing Customer           40      M               3   \n",
              "\n",
              "0 Education_Level Marital_Status Income_Category Card_Category Months_on_book  \\\n",
              "0     High School        Married     $60K - $80K          Blue             39   \n",
              "1        Graduate         Single  Less than $40K          Blue             44   \n",
              "2        Graduate        Married    $80K - $120K          Blue             36   \n",
              "3     High School        Unknown  Less than $40K          Blue             34   \n",
              "4      Uneducated        Married     $60K - $80K          Blue             21   \n",
              "\n",
              "0  ... Credit_Limit Total_Revolving_Bal Avg_Open_To_Buy Total_Amt_Chng_Q4_Q1  \\\n",
              "0  ...        12691                 777           11914                1.335   \n",
              "1  ...         8256                 864            7392                1.541   \n",
              "2  ...         3418                   0            3418                2.594   \n",
              "3  ...         3313                2517             796                1.405   \n",
              "4  ...         4716                   0            4716                2.175   \n",
              "\n",
              "0 Total_Trans_Amt Total_Trans_Ct Total_Ct_Chng_Q4_Q1 Avg_Utilization_Ratio  \\\n",
              "0            1144             42               1.625                 0.061   \n",
              "1            1291             33               3.714                 0.105   \n",
              "2            1887             20               2.333                     0   \n",
              "3            1171             20               2.333                  0.76   \n",
              "4             816             28                 2.5                     0   \n",
              "\n",
              "0 Naive_Bayes_Classifier_Attrition_Flag_Card_Category_Contacts_Count_12_mon_Dependent_count_Education_Level_Months_Inactive_12_mon_1  \\\n",
              "0                                           9.34E-05                                                                                   \n",
              "1                                           5.69E-05                                                                                   \n",
              "2                                           2.11E-05                                                                                   \n",
              "3                                         0.00013366                                                                                   \n",
              "4                                           2.17E-05                                                                                   \n",
              "\n",
              "0 Naive_Bayes_Classifier_Attrition_Flag_Card_Category_Contacts_Count_12_mon_Dependent_count_Education_Level_Months_Inactive_12_mon_2  \n",
              "0                                            0.99991                                                                                  \n",
              "1                                            0.99994                                                                                  \n",
              "2                                            0.99998                                                                                  \n",
              "3                                            0.99987                                                                                  \n",
              "4                                            0.99998                                                                                  \n",
              "\n",
              "[5 rows x 23 columns]"
            ],
            "text/html": [
              "\n",
              "  <div id=\"df-9f96bb38-2ddc-4199-9a88-89ce6bf3a963\">\n",
              "    <div class=\"colab-df-container\">\n",
              "      <div>\n",
              "<style scoped>\n",
              "    .dataframe tbody tr th:only-of-type {\n",
              "        vertical-align: middle;\n",
              "    }\n",
              "\n",
              "    .dataframe tbody tr th {\n",
              "        vertical-align: top;\n",
              "    }\n",
              "\n",
              "    .dataframe thead th {\n",
              "        text-align: right;\n",
              "    }\n",
              "</style>\n",
              "<table border=\"1\" class=\"dataframe\">\n",
              "  <thead>\n",
              "    <tr style=\"text-align: right;\">\n",
              "      <th></th>\n",
              "      <th>CLIENTNUM</th>\n",
              "      <th>Attrition_Flag</th>\n",
              "      <th>Customer_Age</th>\n",
              "      <th>Gender</th>\n",
              "      <th>Dependent_count</th>\n",
              "      <th>Education_Level</th>\n",
              "      <th>Marital_Status</th>\n",
              "      <th>Income_Category</th>\n",
              "      <th>Card_Category</th>\n",
              "      <th>Months_on_book</th>\n",
              "      <th>...</th>\n",
              "      <th>Credit_Limit</th>\n",
              "      <th>Total_Revolving_Bal</th>\n",
              "      <th>Avg_Open_To_Buy</th>\n",
              "      <th>Total_Amt_Chng_Q4_Q1</th>\n",
              "      <th>Total_Trans_Amt</th>\n",
              "      <th>Total_Trans_Ct</th>\n",
              "      <th>Total_Ct_Chng_Q4_Q1</th>\n",
              "      <th>Avg_Utilization_Ratio</th>\n",
              "      <th>Naive_Bayes_Classifier_Attrition_Flag_Card_Category_Contacts_Count_12_mon_Dependent_count_Education_Level_Months_Inactive_12_mon_1</th>\n",
              "      <th>Naive_Bayes_Classifier_Attrition_Flag_Card_Category_Contacts_Count_12_mon_Dependent_count_Education_Level_Months_Inactive_12_mon_2</th>\n",
              "    </tr>\n",
              "  </thead>\n",
              "  <tbody>\n",
              "    <tr>\n",
              "      <th>0</th>\n",
              "      <td>768805383</td>\n",
              "      <td>Existing Customer</td>\n",
              "      <td>45</td>\n",
              "      <td>M</td>\n",
              "      <td>3</td>\n",
              "      <td>High School</td>\n",
              "      <td>Married</td>\n",
              "      <td>$60K - $80K</td>\n",
              "      <td>Blue</td>\n",
              "      <td>39</td>\n",
              "      <td>...</td>\n",
              "      <td>12691</td>\n",
              "      <td>777</td>\n",
              "      <td>11914</td>\n",
              "      <td>1.335</td>\n",
              "      <td>1144</td>\n",
              "      <td>42</td>\n",
              "      <td>1.625</td>\n",
              "      <td>0.061</td>\n",
              "      <td>9.34E-05</td>\n",
              "      <td>0.99991</td>\n",
              "    </tr>\n",
              "    <tr>\n",
              "      <th>1</th>\n",
              "      <td>818770008</td>\n",
              "      <td>Existing Customer</td>\n",
              "      <td>49</td>\n",
              "      <td>F</td>\n",
              "      <td>5</td>\n",
              "      <td>Graduate</td>\n",
              "      <td>Single</td>\n",
              "      <td>Less than $40K</td>\n",
              "      <td>Blue</td>\n",
              "      <td>44</td>\n",
              "      <td>...</td>\n",
              "      <td>8256</td>\n",
              "      <td>864</td>\n",
              "      <td>7392</td>\n",
              "      <td>1.541</td>\n",
              "      <td>1291</td>\n",
              "      <td>33</td>\n",
              "      <td>3.714</td>\n",
              "      <td>0.105</td>\n",
              "      <td>5.69E-05</td>\n",
              "      <td>0.99994</td>\n",
              "    </tr>\n",
              "    <tr>\n",
              "      <th>2</th>\n",
              "      <td>713982108</td>\n",
              "      <td>Existing Customer</td>\n",
              "      <td>51</td>\n",
              "      <td>M</td>\n",
              "      <td>3</td>\n",
              "      <td>Graduate</td>\n",
              "      <td>Married</td>\n",
              "      <td>$80K - $120K</td>\n",
              "      <td>Blue</td>\n",
              "      <td>36</td>\n",
              "      <td>...</td>\n",
              "      <td>3418</td>\n",
              "      <td>0</td>\n",
              "      <td>3418</td>\n",
              "      <td>2.594</td>\n",
              "      <td>1887</td>\n",
              "      <td>20</td>\n",
              "      <td>2.333</td>\n",
              "      <td>0</td>\n",
              "      <td>2.11E-05</td>\n",
              "      <td>0.99998</td>\n",
              "    </tr>\n",
              "    <tr>\n",
              "      <th>3</th>\n",
              "      <td>769911858</td>\n",
              "      <td>Existing Customer</td>\n",
              "      <td>40</td>\n",
              "      <td>F</td>\n",
              "      <td>4</td>\n",
              "      <td>High School</td>\n",
              "      <td>Unknown</td>\n",
              "      <td>Less than $40K</td>\n",
              "      <td>Blue</td>\n",
              "      <td>34</td>\n",
              "      <td>...</td>\n",
              "      <td>3313</td>\n",
              "      <td>2517</td>\n",
              "      <td>796</td>\n",
              "      <td>1.405</td>\n",
              "      <td>1171</td>\n",
              "      <td>20</td>\n",
              "      <td>2.333</td>\n",
              "      <td>0.76</td>\n",
              "      <td>0.00013366</td>\n",
              "      <td>0.99987</td>\n",
              "    </tr>\n",
              "    <tr>\n",
              "      <th>4</th>\n",
              "      <td>709106358</td>\n",
              "      <td>Existing Customer</td>\n",
              "      <td>40</td>\n",
              "      <td>M</td>\n",
              "      <td>3</td>\n",
              "      <td>Uneducated</td>\n",
              "      <td>Married</td>\n",
              "      <td>$60K - $80K</td>\n",
              "      <td>Blue</td>\n",
              "      <td>21</td>\n",
              "      <td>...</td>\n",
              "      <td>4716</td>\n",
              "      <td>0</td>\n",
              "      <td>4716</td>\n",
              "      <td>2.175</td>\n",
              "      <td>816</td>\n",
              "      <td>28</td>\n",
              "      <td>2.5</td>\n",
              "      <td>0</td>\n",
              "      <td>2.17E-05</td>\n",
              "      <td>0.99998</td>\n",
              "    </tr>\n",
              "  </tbody>\n",
              "</table>\n",
              "<p>5 rows × 23 columns</p>\n",
              "</div>\n",
              "      <button class=\"colab-df-convert\" onclick=\"convertToInteractive('df-9f96bb38-2ddc-4199-9a88-89ce6bf3a963')\"\n",
              "              title=\"Convert this dataframe to an interactive table.\"\n",
              "              style=\"display:none;\">\n",
              "        \n",
              "  <svg xmlns=\"http://www.w3.org/2000/svg\" height=\"24px\"viewBox=\"0 0 24 24\"\n",
              "       width=\"24px\">\n",
              "    <path d=\"M0 0h24v24H0V0z\" fill=\"none\"/>\n",
              "    <path d=\"M18.56 5.44l.94 2.06.94-2.06 2.06-.94-2.06-.94-.94-2.06-.94 2.06-2.06.94zm-11 1L8.5 8.5l.94-2.06 2.06-.94-2.06-.94L8.5 2.5l-.94 2.06-2.06.94zm10 10l.94 2.06.94-2.06 2.06-.94-2.06-.94-.94-2.06-.94 2.06-2.06.94z\"/><path d=\"M17.41 7.96l-1.37-1.37c-.4-.4-.92-.59-1.43-.59-.52 0-1.04.2-1.43.59L10.3 9.45l-7.72 7.72c-.78.78-.78 2.05 0 2.83L4 21.41c.39.39.9.59 1.41.59.51 0 1.02-.2 1.41-.59l7.78-7.78 2.81-2.81c.8-.78.8-2.07 0-2.86zM5.41 20L4 18.59l7.72-7.72 1.47 1.35L5.41 20z\"/>\n",
              "  </svg>\n",
              "      </button>\n",
              "      \n",
              "  <style>\n",
              "    .colab-df-container {\n",
              "      display:flex;\n",
              "      flex-wrap:wrap;\n",
              "      gap: 12px;\n",
              "    }\n",
              "\n",
              "    .colab-df-convert {\n",
              "      background-color: #E8F0FE;\n",
              "      border: none;\n",
              "      border-radius: 50%;\n",
              "      cursor: pointer;\n",
              "      display: none;\n",
              "      fill: #1967D2;\n",
              "      height: 32px;\n",
              "      padding: 0 0 0 0;\n",
              "      width: 32px;\n",
              "    }\n",
              "\n",
              "    .colab-df-convert:hover {\n",
              "      background-color: #E2EBFA;\n",
              "      box-shadow: 0px 1px 2px rgba(60, 64, 67, 0.3), 0px 1px 3px 1px rgba(60, 64, 67, 0.15);\n",
              "      fill: #174EA6;\n",
              "    }\n",
              "\n",
              "    [theme=dark] .colab-df-convert {\n",
              "      background-color: #3B4455;\n",
              "      fill: #D2E3FC;\n",
              "    }\n",
              "\n",
              "    [theme=dark] .colab-df-convert:hover {\n",
              "      background-color: #434B5C;\n",
              "      box-shadow: 0px 1px 3px 1px rgba(0, 0, 0, 0.15);\n",
              "      filter: drop-shadow(0px 1px 2px rgba(0, 0, 0, 0.3));\n",
              "      fill: #FFFFFF;\n",
              "    }\n",
              "  </style>\n",
              "\n",
              "      <script>\n",
              "        const buttonEl =\n",
              "          document.querySelector('#df-9f96bb38-2ddc-4199-9a88-89ce6bf3a963 button.colab-df-convert');\n",
              "        buttonEl.style.display =\n",
              "          google.colab.kernel.accessAllowed ? 'block' : 'none';\n",
              "\n",
              "        async function convertToInteractive(key) {\n",
              "          const element = document.querySelector('#df-9f96bb38-2ddc-4199-9a88-89ce6bf3a963');\n",
              "          const dataTable =\n",
              "            await google.colab.kernel.invokeFunction('convertToInteractive',\n",
              "                                                     [key], {});\n",
              "          if (!dataTable) return;\n",
              "\n",
              "          const docLinkHtml = 'Like what you see? Visit the ' +\n",
              "            '<a target=\"_blank\" href=https://colab.research.google.com/notebooks/data_table.ipynb>data table notebook</a>'\n",
              "            + ' to learn more about interactive tables.';\n",
              "          element.innerHTML = '';\n",
              "          dataTable['output_type'] = 'display_data';\n",
              "          await google.colab.output.renderOutput(dataTable, element);\n",
              "          const docLink = document.createElement('div');\n",
              "          docLink.innerHTML = docLinkHtml;\n",
              "          element.appendChild(docLink);\n",
              "        }\n",
              "      </script>\n",
              "    </div>\n",
              "  </div>\n",
              "  "
            ]
          },
          "metadata": {},
          "execution_count": 4
        }
      ]
    },
    {
      "cell_type": "code",
      "source": [
        "df['Income_Category'].unique()"
      ],
      "metadata": {
        "colab": {
          "base_uri": "https://localhost:8080/"
        },
        "id": "slI0n0o7jrfu",
        "outputId": "c47a667b-ac11-4d7c-8de7-acb2f899e83d"
      },
      "execution_count": null,
      "outputs": [
        {
          "output_type": "execute_result",
          "data": {
            "text/plain": [
              "array(['$60K - $80K', 'Less than $40K', '$80K - $120K', '$40K - $60K',\n",
              "       '$120K +', 'Unknown'], dtype=object)"
            ]
          },
          "metadata": {},
          "execution_count": 5
        }
      ]
    },
    {
      "cell_type": "code",
      "source": [
        "df.info()"
      ],
      "metadata": {
        "colab": {
          "base_uri": "https://localhost:8080/"
        },
        "id": "Ghxvi6x3XtNb",
        "outputId": "bf88ba12-622c-47cc-d9d8-f8ae6acdd192"
      },
      "execution_count": null,
      "outputs": [
        {
          "output_type": "stream",
          "name": "stdout",
          "text": [
            "<class 'pandas.core.frame.DataFrame'>\n",
            "RangeIndex: 10127 entries, 0 to 10126\n",
            "Data columns (total 23 columns):\n",
            " #   Column                                                                                                                              Non-Null Count  Dtype \n",
            "---  ------                                                                                                                              --------------  ----- \n",
            " 0   CLIENTNUM                                                                                                                           10127 non-null  object\n",
            " 1   Attrition_Flag                                                                                                                      10127 non-null  object\n",
            " 2   Customer_Age                                                                                                                        10127 non-null  object\n",
            " 3   Gender                                                                                                                              10127 non-null  object\n",
            " 4   Dependent_count                                                                                                                     10127 non-null  object\n",
            " 5   Education_Level                                                                                                                     10127 non-null  object\n",
            " 6   Marital_Status                                                                                                                      10127 non-null  object\n",
            " 7   Income_Category                                                                                                                     10127 non-null  object\n",
            " 8   Card_Category                                                                                                                       10127 non-null  object\n",
            " 9   Months_on_book                                                                                                                      10127 non-null  object\n",
            " 10  Total_Relationship_Count                                                                                                            10127 non-null  object\n",
            " 11  Months_Inactive_12_mon                                                                                                              10127 non-null  object\n",
            " 12  Contacts_Count_12_mon                                                                                                               10127 non-null  object\n",
            " 13  Credit_Limit                                                                                                                        10127 non-null  object\n",
            " 14  Total_Revolving_Bal                                                                                                                 10127 non-null  object\n",
            " 15  Avg_Open_To_Buy                                                                                                                     10127 non-null  object\n",
            " 16  Total_Amt_Chng_Q4_Q1                                                                                                                10127 non-null  object\n",
            " 17  Total_Trans_Amt                                                                                                                     10127 non-null  object\n",
            " 18  Total_Trans_Ct                                                                                                                      10127 non-null  object\n",
            " 19  Total_Ct_Chng_Q4_Q1                                                                                                                 10127 non-null  object\n",
            " 20  Avg_Utilization_Ratio                                                                                                               10127 non-null  object\n",
            " 21  Naive_Bayes_Classifier_Attrition_Flag_Card_Category_Contacts_Count_12_mon_Dependent_count_Education_Level_Months_Inactive_12_mon_1  10127 non-null  object\n",
            " 22  Naive_Bayes_Classifier_Attrition_Flag_Card_Category_Contacts_Count_12_mon_Dependent_count_Education_Level_Months_Inactive_12_mon_2  10127 non-null  object\n",
            "dtypes: object(23)\n",
            "memory usage: 1.8+ MB\n"
          ]
        }
      ]
    },
    {
      "cell_type": "code",
      "source": [
        "df1 = df[['Attrition_Flag','Customer_Age','Gender','Education_Level','Income_Category']]\n",
        "df1.head()"
      ],
      "metadata": {
        "colab": {
          "base_uri": "https://localhost:8080/",
          "height": 206
        },
        "id": "v4BlBcFmNADM",
        "outputId": "293cd90d-f32d-406a-e3f1-94bdb81886f7"
      },
      "execution_count": null,
      "outputs": [
        {
          "output_type": "execute_result",
          "data": {
            "text/plain": [
              "0     Attrition_Flag Customer_Age Gender Education_Level Income_Category\n",
              "0  Existing Customer           45      M     High School     $60K - $80K\n",
              "1  Existing Customer           49      F        Graduate  Less than $40K\n",
              "2  Existing Customer           51      M        Graduate    $80K - $120K\n",
              "3  Existing Customer           40      F     High School  Less than $40K\n",
              "4  Existing Customer           40      M      Uneducated     $60K - $80K"
            ],
            "text/html": [
              "\n",
              "  <div id=\"df-0a404e1c-309f-4c04-845e-ee3062f75884\">\n",
              "    <div class=\"colab-df-container\">\n",
              "      <div>\n",
              "<style scoped>\n",
              "    .dataframe tbody tr th:only-of-type {\n",
              "        vertical-align: middle;\n",
              "    }\n",
              "\n",
              "    .dataframe tbody tr th {\n",
              "        vertical-align: top;\n",
              "    }\n",
              "\n",
              "    .dataframe thead th {\n",
              "        text-align: right;\n",
              "    }\n",
              "</style>\n",
              "<table border=\"1\" class=\"dataframe\">\n",
              "  <thead>\n",
              "    <tr style=\"text-align: right;\">\n",
              "      <th></th>\n",
              "      <th>Attrition_Flag</th>\n",
              "      <th>Customer_Age</th>\n",
              "      <th>Gender</th>\n",
              "      <th>Education_Level</th>\n",
              "      <th>Income_Category</th>\n",
              "    </tr>\n",
              "  </thead>\n",
              "  <tbody>\n",
              "    <tr>\n",
              "      <th>0</th>\n",
              "      <td>Existing Customer</td>\n",
              "      <td>45</td>\n",
              "      <td>M</td>\n",
              "      <td>High School</td>\n",
              "      <td>$60K - $80K</td>\n",
              "    </tr>\n",
              "    <tr>\n",
              "      <th>1</th>\n",
              "      <td>Existing Customer</td>\n",
              "      <td>49</td>\n",
              "      <td>F</td>\n",
              "      <td>Graduate</td>\n",
              "      <td>Less than $40K</td>\n",
              "    </tr>\n",
              "    <tr>\n",
              "      <th>2</th>\n",
              "      <td>Existing Customer</td>\n",
              "      <td>51</td>\n",
              "      <td>M</td>\n",
              "      <td>Graduate</td>\n",
              "      <td>$80K - $120K</td>\n",
              "    </tr>\n",
              "    <tr>\n",
              "      <th>3</th>\n",
              "      <td>Existing Customer</td>\n",
              "      <td>40</td>\n",
              "      <td>F</td>\n",
              "      <td>High School</td>\n",
              "      <td>Less than $40K</td>\n",
              "    </tr>\n",
              "    <tr>\n",
              "      <th>4</th>\n",
              "      <td>Existing Customer</td>\n",
              "      <td>40</td>\n",
              "      <td>M</td>\n",
              "      <td>Uneducated</td>\n",
              "      <td>$60K - $80K</td>\n",
              "    </tr>\n",
              "  </tbody>\n",
              "</table>\n",
              "</div>\n",
              "      <button class=\"colab-df-convert\" onclick=\"convertToInteractive('df-0a404e1c-309f-4c04-845e-ee3062f75884')\"\n",
              "              title=\"Convert this dataframe to an interactive table.\"\n",
              "              style=\"display:none;\">\n",
              "        \n",
              "  <svg xmlns=\"http://www.w3.org/2000/svg\" height=\"24px\"viewBox=\"0 0 24 24\"\n",
              "       width=\"24px\">\n",
              "    <path d=\"M0 0h24v24H0V0z\" fill=\"none\"/>\n",
              "    <path d=\"M18.56 5.44l.94 2.06.94-2.06 2.06-.94-2.06-.94-.94-2.06-.94 2.06-2.06.94zm-11 1L8.5 8.5l.94-2.06 2.06-.94-2.06-.94L8.5 2.5l-.94 2.06-2.06.94zm10 10l.94 2.06.94-2.06 2.06-.94-2.06-.94-.94-2.06-.94 2.06-2.06.94z\"/><path d=\"M17.41 7.96l-1.37-1.37c-.4-.4-.92-.59-1.43-.59-.52 0-1.04.2-1.43.59L10.3 9.45l-7.72 7.72c-.78.78-.78 2.05 0 2.83L4 21.41c.39.39.9.59 1.41.59.51 0 1.02-.2 1.41-.59l7.78-7.78 2.81-2.81c.8-.78.8-2.07 0-2.86zM5.41 20L4 18.59l7.72-7.72 1.47 1.35L5.41 20z\"/>\n",
              "  </svg>\n",
              "      </button>\n",
              "      \n",
              "  <style>\n",
              "    .colab-df-container {\n",
              "      display:flex;\n",
              "      flex-wrap:wrap;\n",
              "      gap: 12px;\n",
              "    }\n",
              "\n",
              "    .colab-df-convert {\n",
              "      background-color: #E8F0FE;\n",
              "      border: none;\n",
              "      border-radius: 50%;\n",
              "      cursor: pointer;\n",
              "      display: none;\n",
              "      fill: #1967D2;\n",
              "      height: 32px;\n",
              "      padding: 0 0 0 0;\n",
              "      width: 32px;\n",
              "    }\n",
              "\n",
              "    .colab-df-convert:hover {\n",
              "      background-color: #E2EBFA;\n",
              "      box-shadow: 0px 1px 2px rgba(60, 64, 67, 0.3), 0px 1px 3px 1px rgba(60, 64, 67, 0.15);\n",
              "      fill: #174EA6;\n",
              "    }\n",
              "\n",
              "    [theme=dark] .colab-df-convert {\n",
              "      background-color: #3B4455;\n",
              "      fill: #D2E3FC;\n",
              "    }\n",
              "\n",
              "    [theme=dark] .colab-df-convert:hover {\n",
              "      background-color: #434B5C;\n",
              "      box-shadow: 0px 1px 3px 1px rgba(0, 0, 0, 0.15);\n",
              "      filter: drop-shadow(0px 1px 2px rgba(0, 0, 0, 0.3));\n",
              "      fill: #FFFFFF;\n",
              "    }\n",
              "  </style>\n",
              "\n",
              "      <script>\n",
              "        const buttonEl =\n",
              "          document.querySelector('#df-0a404e1c-309f-4c04-845e-ee3062f75884 button.colab-df-convert');\n",
              "        buttonEl.style.display =\n",
              "          google.colab.kernel.accessAllowed ? 'block' : 'none';\n",
              "\n",
              "        async function convertToInteractive(key) {\n",
              "          const element = document.querySelector('#df-0a404e1c-309f-4c04-845e-ee3062f75884');\n",
              "          const dataTable =\n",
              "            await google.colab.kernel.invokeFunction('convertToInteractive',\n",
              "                                                     [key], {});\n",
              "          if (!dataTable) return;\n",
              "\n",
              "          const docLinkHtml = 'Like what you see? Visit the ' +\n",
              "            '<a target=\"_blank\" href=https://colab.research.google.com/notebooks/data_table.ipynb>data table notebook</a>'\n",
              "            + ' to learn more about interactive tables.';\n",
              "          element.innerHTML = '';\n",
              "          dataTable['output_type'] = 'display_data';\n",
              "          await google.colab.output.renderOutput(dataTable, element);\n",
              "          const docLink = document.createElement('div');\n",
              "          docLink.innerHTML = docLinkHtml;\n",
              "          element.appendChild(docLink);\n",
              "        }\n",
              "      </script>\n",
              "    </div>\n",
              "  </div>\n",
              "  "
            ]
          },
          "metadata": {},
          "execution_count": 7
        }
      ]
    },
    {
      "cell_type": "code",
      "source": [
        "df1['Attrition_Flag'].unique()"
      ],
      "metadata": {
        "colab": {
          "base_uri": "https://localhost:8080/"
        },
        "id": "HEAI-MWVbaRo",
        "outputId": "c669fa74-c15b-425d-f31f-519a930122e3"
      },
      "execution_count": null,
      "outputs": [
        {
          "output_type": "execute_result",
          "data": {
            "text/plain": [
              "array(['Existing Customer', 'Attrited Customer'], dtype=object)"
            ]
          },
          "metadata": {},
          "execution_count": 8
        }
      ]
    },
    {
      "cell_type": "markdown",
      "source": [
        "# Histogram Visualization"
      ],
      "metadata": {
        "id": "nZuGUn77RCm_"
      }
    },
    {
      "cell_type": "code",
      "source": [
        "plt.figure(figsize=(8,5))\n",
        "counts, edges, bars = plt.hist(df1['Attrition_Flag'])\n",
        "plt.title('Customer Status')\n",
        "plt.xlabel('Range')\n",
        "plt.ylabel('Count')\n",
        "\n",
        "plt.show()"
      ],
      "metadata": {
        "colab": {
          "base_uri": "https://localhost:8080/",
          "height": 350
        },
        "id": "xxtm69nvRJcr",
        "outputId": "28e739ad-89ef-461c-e6f5-57d77869e255"
      },
      "execution_count": null,
      "outputs": [
        {
          "output_type": "display_data",
          "data": {
            "text/plain": [
              "<Figure size 576x360 with 1 Axes>"
            ],
            "image/png": "[encoded data removed]"
          },
          "metadata": {
            "needs_background": "light"
          }
        }
      ]
    },
    {
      "cell_type": "markdown",
      "source": [
        "Jumlah existing customer lebih banyak dibandingkan dengan pelanggan baru"
      ],
      "metadata": {
        "id": "BAuVEl8X7Bho"
      }
    },
    {
      "cell_type": "code",
      "source": [
        "pd.to_numeric(df1['Customer_Age'],errors='coerce')"
      ],
      "metadata": {
        "colab": {
          "base_uri": "https://localhost:8080/"
        },
        "id": "IJGmSt2TT3n7",
        "outputId": "84202a67-ae2c-4118-cc27-602c9bf6e59e"
      },
      "execution_count": null,
      "outputs": [
        {
          "output_type": "execute_result",
          "data": {
            "text/plain": [
              "0        45\n",
              "1        49\n",
              "2        51\n",
              "3        40\n",
              "4        40\n",
              "         ..\n",
              "10122    50\n",
              "10123    41\n",
              "10124    44\n",
              "10125    30\n",
              "10126    43\n",
              "Name: Customer_Age, Length: 10127, dtype: int64"
            ]
          },
          "metadata": {},
          "execution_count": 29
        }
      ]
    },
    {
      "cell_type": "code",
      "source": [
        "df1['Customer_Age_Cat'] = np.where(df1['Customer_Age'] < 30, '< 30',\n",
        "                          np.where(df1['Customer_Age'] < 40, '30 - 40',\n",
        "                          np.where(df1['Customer_Age'] < 50, '40 - 50',\n",
        "                          np.where(df1['Customer_Age'] < 60, '50 - 60', '> 60'))))\n",
        "\n",
        "Catgram = df1['Customer_Age_Cat'].value_counts().reset_index()\n",
        "\n",
        "Catgram['index'] = pd.Categorical(Catgram['index'], ordered=True,\n",
        "                   categories=['< 30', '30 - 40', '40 - 50', '50 - 60', '> 60'])"
      ],
      "metadata": {
        "id": "GLW1qLkoSosB"
      },
      "execution_count": null,
      "outputs": []
    },
    {
      "cell_type": "code",
      "source": [
        "Catgram.head()"
      ],
      "metadata": {
        "colab": {
          "base_uri": "https://localhost:8080/",
          "height": 206
        },
        "id": "IbWckcR8UBmr",
        "outputId": "4a404df9-4e75-4899-9294-9b1a49ebb562"
      },
      "execution_count": null,
      "outputs": [
        {
          "output_type": "execute_result",
          "data": {
            "text/plain": [
              "     index  Customer_Age_Cat\n",
              "0  40 - 50              4561\n",
              "1  50 - 60              2998\n",
              "2  30 - 40              1841\n",
              "3     > 60               532\n",
              "4     < 30               195"
            ],
            "text/html": [
              "\n",
              "  <div id=\"df-4bcfe2c3-0793-4d9c-9298-ffb24b5584d4\">\n",
              "    <div class=\"colab-df-container\">\n",
              "      <div>\n",
              "<style scoped>\n",
              "    .dataframe tbody tr th:only-of-type {\n",
              "        vertical-align: middle;\n",
              "    }\n",
              "\n",
              "    .dataframe tbody tr th {\n",
              "        vertical-align: top;\n",
              "    }\n",
              "\n",
              "    .dataframe thead th {\n",
              "        text-align: right;\n",
              "    }\n",
              "</style>\n",
              "<table border=\"1\" class=\"dataframe\">\n",
              "  <thead>\n",
              "    <tr style=\"text-align: right;\">\n",
              "      <th></th>\n",
              "      <th>index</th>\n",
              "      <th>Customer_Age_Cat</th>\n",
              "    </tr>\n",
              "  </thead>\n",
              "  <tbody>\n",
              "    <tr>\n",
              "      <th>0</th>\n",
              "      <td>40 - 50</td>\n",
              "      <td>4561</td>\n",
              "    </tr>\n",
              "    <tr>\n",
              "      <th>1</th>\n",
              "      <td>50 - 60</td>\n",
              "      <td>2998</td>\n",
              "    </tr>\n",
              "    <tr>\n",
              "      <th>2</th>\n",
              "      <td>30 - 40</td>\n",
              "      <td>1841</td>\n",
              "    </tr>\n",
              "    <tr>\n",
              "      <th>3</th>\n",
              "      <td>&gt; 60</td>\n",
              "      <td>532</td>\n",
              "    </tr>\n",
              "    <tr>\n",
              "      <th>4</th>\n",
              "      <td>&lt; 30</td>\n",
              "      <td>195</td>\n",
              "    </tr>\n",
              "  </tbody>\n",
              "</table>\n",
              "</div>\n",
              "      <button class=\"colab-df-convert\" onclick=\"convertToInteractive('df-4bcfe2c3-0793-4d9c-9298-ffb24b5584d4')\"\n",
              "              title=\"Convert this dataframe to an interactive table.\"\n",
              "              style=\"display:none;\">\n",
              "        \n",
              "  <svg xmlns=\"http://www.w3.org/2000/svg\" height=\"24px\"viewBox=\"0 0 24 24\"\n",
              "       width=\"24px\">\n",
              "    <path d=\"M0 0h24v24H0V0z\" fill=\"none\"/>\n",
              "    <path d=\"M18.56 5.44l.94 2.06.94-2.06 2.06-.94-2.06-.94-.94-2.06-.94 2.06-2.06.94zm-11 1L8.5 8.5l.94-2.06 2.06-.94-2.06-.94L8.5 2.5l-.94 2.06-2.06.94zm10 10l.94 2.06.94-2.06 2.06-.94-2.06-.94-.94-2.06-.94 2.06-2.06.94z\"/><path d=\"M17.41 7.96l-1.37-1.37c-.4-.4-.92-.59-1.43-.59-.52 0-1.04.2-1.43.59L10.3 9.45l-7.72 7.72c-.78.78-.78 2.05 0 2.83L4 21.41c.39.39.9.59 1.41.59.51 0 1.02-.2 1.41-.59l7.78-7.78 2.81-2.81c.8-.78.8-2.07 0-2.86zM5.41 20L4 18.59l7.72-7.72 1.47 1.35L5.41 20z\"/>\n",
              "  </svg>\n",
              "      </button>\n",
              "      \n",
              "  <style>\n",
              "    .colab-df-container {\n",
              "      display:flex;\n",
              "      flex-wrap:wrap;\n",
              "      gap: 12px;\n",
              "    }\n",
              "\n",
              "    .colab-df-convert {\n",
              "      background-color: #E8F0FE;\n",
              "      border: none;\n",
              "      border-radius: 50%;\n",
              "      cursor: pointer;\n",
              "      display: none;\n",
              "      fill: #1967D2;\n",
              "      height: 32px;\n",
              "      padding: 0 0 0 0;\n",
              "      width: 32px;\n",
              "    }\n",
              "\n",
              "    .colab-df-convert:hover {\n",
              "      background-color: #E2EBFA;\n",
              "      box-shadow: 0px 1px 2px rgba(60, 64, 67, 0.3), 0px 1px 3px 1px rgba(60, 64, 67, 0.15);\n",
              "      fill: #174EA6;\n",
              "    }\n",
              "\n",
              "    [theme=dark] .colab-df-convert {\n",
              "      background-color: #3B4455;\n",
              "      fill: #D2E3FC;\n",
              "    }\n",
              "\n",
              "    [theme=dark] .colab-df-convert:hover {\n",
              "      background-color: #434B5C;\n",
              "      box-shadow: 0px 1px 3px 1px rgba(0, 0, 0, 0.15);\n",
              "      filter: drop-shadow(0px 1px 2px rgba(0, 0, 0, 0.3));\n",
              "      fill: #FFFFFF;\n",
              "    }\n",
              "  </style>\n",
              "\n",
              "      <script>\n",
              "        const buttonEl =\n",
              "          document.querySelector('#df-4bcfe2c3-0793-4d9c-9298-ffb24b5584d4 button.colab-df-convert');\n",
              "        buttonEl.style.display =\n",
              "          google.colab.kernel.accessAllowed ? 'block' : 'none';\n",
              "\n",
              "        async function convertToInteractive(key) {\n",
              "          const element = document.querySelector('#df-4bcfe2c3-0793-4d9c-9298-ffb24b5584d4');\n",
              "          const dataTable =\n",
              "            await google.colab.kernel.invokeFunction('convertToInteractive',\n",
              "                                                     [key], {});\n",
              "          if (!dataTable) return;\n",
              "\n",
              "          const docLinkHtml = 'Like what you see? Visit the ' +\n",
              "            '<a target=\"_blank\" href=https://colab.research.google.com/notebooks/data_table.ipynb>data table notebook</a>'\n",
              "            + ' to learn more about interactive tables.';\n",
              "          element.innerHTML = '';\n",
              "          dataTable['output_type'] = 'display_data';\n",
              "          await google.colab.output.renderOutput(dataTable, element);\n",
              "          const docLink = document.createElement('div');\n",
              "          docLink.innerHTML = docLinkHtml;\n",
              "          element.appendChild(docLink);\n",
              "        }\n",
              "      </script>\n",
              "    </div>\n",
              "  </div>\n",
              "  "
            ]
          },
          "metadata": {},
          "execution_count": 12
        }
      ]
    },
    {
      "cell_type": "code",
      "source": [
        "plt.bar(Catgram['index'], Catgram['Customer_Age_Cat'])\n",
        "plt.title('Based on Categorical Age')\n",
        "plt.xlabel('Range')\n",
        "plt.ylabel('Count')\n",
        "\n",
        "plt.show()"
      ],
      "metadata": {
        "colab": {
          "base_uri": "https://localhost:8080/",
          "height": 295
        },
        "id": "vx5AKG0UUIXC",
        "outputId": "99217c3d-eb9e-442b-ebfa-630eb4765921"
      },
      "execution_count": null,
      "outputs": [
        {
          "output_type": "display_data",
          "data": {
            "text/plain": [
              "<Figure size 432x288 with 1 Axes>"
            ],
            "image/png": "[encoded data removed]"
          },
          "metadata": {
            "needs_background": "light"
          }
        }
      ]
    },
    {
      "cell_type": "markdown",
      "source": [
        "Secara usia pelanggan, pelanggan didominasi oleh usia 40 - 50 tahun"
      ],
      "metadata": {
        "id": "t0TQeYiS7HFH"
      }
    },
    {
      "cell_type": "markdown",
      "source": [
        "# Area Plot"
      ],
      "metadata": {
        "id": "LJS578CuUr5Z"
      }
    },
    {
      "cell_type": "code",
      "source": [
        "df2 = df[['Attrition_Flag','Customer_Age','Gender','Education_Level','Income_Category','Total_Trans_Amt']]"
      ],
      "metadata": {
        "id": "1xV80Yr9WQ1q"
      },
      "execution_count": null,
      "outputs": []
    },
    {
      "cell_type": "code",
      "source": [
        "df2['Education_Level'].unique()"
      ],
      "metadata": {
        "colab": {
          "base_uri": "https://localhost:8080/"
        },
        "id": "_Fi0jS38XHFm",
        "outputId": "c7ceea46-cbf5-4ae2-d454-4a16acd57532"
      },
      "execution_count": null,
      "outputs": [
        {
          "output_type": "execute_result",
          "data": {
            "text/plain": [
              "array(['High School', 'Graduate', 'Uneducated', 'Unknown', 'College',\n",
              "       'Post-Graduate', 'Doctorate'], dtype=object)"
            ]
          },
          "metadata": {},
          "execution_count": 15
        }
      ]
    },
    {
      "cell_type": "code",
      "source": [
        "pd.to_numeric(df2['Total_Trans_Amt'],errors='coerce')"
      ],
      "metadata": {
        "id": "QzzOUAUddhHc",
        "colab": {
          "base_uri": "https://localhost:8080/"
        },
        "outputId": "9c08501d-df6f-4c2d-8ad8-cde4df836c7e"
      },
      "execution_count": null,
      "outputs": [
        {
          "output_type": "execute_result",
          "data": {
            "text/plain": [
              "0         1144\n",
              "1         1291\n",
              "2         1887\n",
              "3         1171\n",
              "4          816\n",
              "         ...  \n",
              "10122    15476\n",
              "10123     8764\n",
              "10124    10291\n",
              "10125     8395\n",
              "10126    10294\n",
              "Name: Total_Trans_Amt, Length: 10127, dtype: int64"
            ]
          },
          "metadata": {},
          "execution_count": 35
        }
      ]
    },
    {
      "cell_type": "code",
      "source": [
        "uneducated = df2[df2['Education_Level'] == 'Uneducated'][['Income_Category', 'Total_Trans_Amt']]\n",
        "uneducated = uneducated.groupby('Income_Category').agg({'Total_Trans_Amt':'sum'})\n",
        "\n",
        "high_school = df2[df2['Education_Level'] == 'High School'][['Income_Category', 'Total_Trans_Amt']]\n",
        "high_school = high_school.groupby('Income_Category').agg({'Total_Trans_Amt':'sum'})\n",
        "\n",
        "college = df2[df2['Education_Level'] == 'College'][['Income_Category', 'Total_Trans_Amt']]\n",
        "college = college.groupby('Income_Category').agg({'Total_Trans_Amt':'sum'})\n",
        "\n",
        "graduate = df2[df2['Education_Level'] == 'Graduate'][['Income_Category', 'Total_Trans_Amt']]\n",
        "graduate = graduate.groupby('Income_Category').agg({'Total_Trans_Amt':'sum'})\n",
        "\n",
        "post_graduate = df2[df2['Education_Level'] == 'Post-Graduate'][['Income_Category', 'Total_Trans_Amt']]\n",
        "post_graduate = post_graduate.groupby('Income_Category').agg({'Total_Trans_Amt':'sum'})\n",
        "\n",
        "doctorate = df2[df2['Education_Level'] == 'Doctorate'][['Income_Category', 'Total_Trans_Amt']]\n",
        "doctorate = doctorate.groupby('Income_Category').agg({'Total_Trans_Amt':'sum'})\n"
      ],
      "metadata": {
        "id": "bttvIWclVpP4"
      },
      "execution_count": null,
      "outputs": []
    },
    {
      "cell_type": "code",
      "source": [
        "temp = pd.concat([uneducated, high_school, college, graduate, post_graduate, doctorate], axis=1)\n",
        "temp.columns = ['Uneducated', 'High School', 'College', 'Graduate', 'Post-Graduate', 'Doctorate']"
      ],
      "metadata": {
        "id": "x5aZPkl3Zz1j"
      },
      "execution_count": null,
      "outputs": []
    },
    {
      "cell_type": "code",
      "source": [
        "temp.plot.area(figsize=(10,5))\n",
        "\n",
        "plt.show()"
      ],
      "metadata": {
        "colab": {
          "base_uri": "https://localhost:8080/",
          "height": 348
        },
        "id": "M-2rtvpLecoc",
        "outputId": "388df7a2-b312-4639-8fd0-e2195ae97d20"
      },
      "execution_count": null,
      "outputs": [
        {
          "output_type": "display_data",
          "data": {
            "text/plain": [
              "<Figure size 720x360 with 1 Axes>"
            ],
            "image/png": "[encoded data removed]"
          },
          "metadata": {
            "needs_background": "light"
          }
        }
      ]
    },
    {
      "cell_type": "markdown",
      "source": [
        "Dari Grafik terlihat secara kategori income, bahwasanya kategori **Less than 40K** melakukan jumlah transaksi yang paling banyak diantara kategori lain"
      ],
      "metadata": {
        "id": "-Ofrca1-6dY_"
      }
    },
    {
      "cell_type": "markdown",
      "source": [
        "# Bar Chart"
      ],
      "metadata": {
        "id": "54NMao4jevR0"
      }
    },
    {
      "cell_type": "code",
      "source": [
        "temp2 = df2['Education_Level'].value_counts().reset_index()"
      ],
      "metadata": {
        "id": "TJC-y-f6euf0"
      },
      "execution_count": null,
      "outputs": []
    },
    {
      "cell_type": "code",
      "source": [
        "plt.figure(figsize=(15,8))\n",
        "plt.bar(temp2['index'], temp2['Education_Level'])"
      ],
      "metadata": {
        "colab": {
          "base_uri": "https://localhost:8080/",
          "height": 500
        },
        "id": "ncbgU9CDf3DI",
        "outputId": "721bdc3e-ea5f-41a6-e59f-8980f0a68567"
      },
      "execution_count": null,
      "outputs": [
        {
          "output_type": "execute_result",
          "data": {
            "text/plain": [
              "<BarContainer object of 7 artists>"
            ]
          },
          "metadata": {},
          "execution_count": 22
        },
        {
          "output_type": "display_data",
          "data": {
            "text/plain": [
              "<Figure size 1080x576 with 1 Axes>"
            ],
            "image/png": "[encoded data removed]"
          },
          "metadata": {
            "needs_background": "light"
          }
        }
      ]
    },
    {
      "cell_type": "markdown",
      "source": [
        "Grafik jumlah pelanggan berdasarkan Level Edukasi"
      ],
      "metadata": {
        "id": "7-4TvfB45gp9"
      }
    },
    {
      "cell_type": "markdown",
      "source": [
        "# Pie Chart"
      ],
      "metadata": {
        "id": "2tRTjrk6ghHU"
      }
    },
    {
      "cell_type": "code",
      "source": [
        "temp2.drop(2, inplace=True)"
      ],
      "metadata": {
        "id": "LusRBFHG4T23"
      },
      "execution_count": null,
      "outputs": []
    },
    {
      "cell_type": "code",
      "source": [
        "plt.pie(x=temp2['Education_Level'], labels=temp2['index'], autopct='%1.1f%%')\n",
        "plt.title('Education Level')\n",
        "\n",
        "plt.show()"
      ],
      "metadata": {
        "colab": {
          "base_uri": "https://localhost:8080/",
          "height": 264
        },
        "id": "dQRcsUwAgf5n",
        "outputId": "afc1ab25-f6b5-4f9e-b22a-d08450a2413e"
      },
      "execution_count": null,
      "outputs": [
        {
          "output_type": "display_data",
          "data": {
            "text/plain": [
              "<Figure size 432x288 with 1 Axes>"
            ],
            "image/png": "[encoded data removed]"
          },
          "metadata": {}
        }
      ]
    },
    {
      "cell_type": "markdown",
      "source": [
        "Dari grafik diatas dapat dilihat bahwa tingkat pendidikan pelanggan paling besar secara berurutan:\n",
        "\n",
        "**-Graduate : 36,3%**\n",
        "\n",
        "**-High School : 23,4%**\n",
        "\n",
        "**-Uneducated : 17,3%**\n",
        "\n",
        "**-College : 11,8%**\n",
        "\n",
        "**-Post Graduate : 6,0%**\n",
        "\n",
        "**-Doctorate : 5,2%**"
      ],
      "metadata": {
        "id": "hcYoxeSL32u_"
      }
    },
    {
      "cell_type": "code",
      "source": [
        "temp3 = df2['Gender'].value_counts().reset_index()"
      ],
      "metadata": {
        "id": "obrc9otsgzcF"
      },
      "execution_count": null,
      "outputs": []
    },
    {
      "cell_type": "code",
      "source": [
        "plt.pie(x=temp3['Gender'], labels=temp3['index'], autopct='%1.1f%%')\n",
        "plt.title('Gender')\n",
        "\n",
        "plt.show()"
      ],
      "metadata": {
        "colab": {
          "base_uri": "https://localhost:8080/",
          "height": 264
        },
        "id": "kyGKf0XXg5y4",
        "outputId": "6d517755-84ec-4543-eebf-9a4a9a1a59e5"
      },
      "execution_count": null,
      "outputs": [
        {
          "output_type": "display_data",
          "data": {
            "text/plain": [
              "<Figure size 432x288 with 1 Axes>"
            ],
            "image/png": "[encoded data removed]"
          },
          "metadata": {}
        }
      ]
    },
    {
      "cell_type": "markdown",
      "source": [
        "Dari grafik diatas dapat dilihat proporsi jenis kelamin dari data pelanggan adalah **52,9% Wanita** dan **47,1% Lelaki**"
      ],
      "metadata": {
        "id": "VH0HYU_F3mhj"
      }
    },
    {
      "cell_type": "markdown",
      "source": [
        "# Line and Bar Chart\n"
      ],
      "metadata": {
        "id": "dD78k0G_xnfW"
      }
    },
    {
      "cell_type": "code",
      "source": [
        "df3 = df[['Attrition_Flag','Customer_Age','Gender','Education_Level','Income_Category','Credit_Limit', 'Total_Trans_Amt']]"
      ],
      "metadata": {
        "id": "ebkeJ081zPAv"
      },
      "execution_count": null,
      "outputs": []
    },
    {
      "cell_type": "code",
      "source": [
        "df3['Total_Trans_Amt'] = pd.to_numeric(df3['Total_Trans_Amt'],errors='coerce')\n",
        "df3['Credit_Limit'] = pd.to_numeric(df3['Credit_Limit'],errors='coerce')"
      ],
      "metadata": {
        "id": "lTfiQMtxzdI7"
      },
      "execution_count": null,
      "outputs": []
    },
    {
      "cell_type": "code",
      "source": [
        "df3.info()"
      ],
      "metadata": {
        "id": "KcWgBqA7z8kO"
      },
      "execution_count": null,
      "outputs": []
    },
    {
      "cell_type": "code",
      "source": [
        "temp4 = df3.groupby('Income_Category').agg({'Credit_Limit':'mean', 'Total_Trans_Amt':'mean'})\n",
        "temp4.drop('Unknown', inplace=True)\n",
        "temp4"
      ],
      "metadata": {
        "colab": {
          "base_uri": "https://localhost:8080/",
          "height": 238
        },
        "id": "QV6Ft0OYxp2Y",
        "outputId": "557b3439-e118-4327-df00-5f523f4bbc7d"
      },
      "execution_count": null,
      "outputs": [
        {
          "output_type": "execute_result",
          "data": {
            "text/plain": [
              "0                Credit_Limit  Total_Trans_Amt\n",
              "Income_Category                               \n",
              "$120K +          19717.322558      4529.467675\n",
              "$40K - $60K       5462.259832      4405.618994\n",
              "$60K - $80K      10758.772967      4450.712553\n",
              "$80K - $120K     15809.890945      4482.960261\n",
              "Less than $40K    3754.404521      4363.420107"
            ],
            "text/html": [
              "\n",
              "  <div id=\"df-bf9354e7-ed6a-46f2-bd6f-945b3d724782\">\n",
              "    <div class=\"colab-df-container\">\n",
              "      <div>\n",
              "<style scoped>\n",
              "    .dataframe tbody tr th:only-of-type {\n",
              "        vertical-align: middle;\n",
              "    }\n",
              "\n",
              "    .dataframe tbody tr th {\n",
              "        vertical-align: top;\n",
              "    }\n",
              "\n",
              "    .dataframe thead th {\n",
              "        text-align: right;\n",
              "    }\n",
              "</style>\n",
              "<table border=\"1\" class=\"dataframe\">\n",
              "  <thead>\n",
              "    <tr style=\"text-align: right;\">\n",
              "      <th></th>\n",
              "      <th>Credit_Limit</th>\n",
              "      <th>Total_Trans_Amt</th>\n",
              "    </tr>\n",
              "    <tr>\n",
              "      <th>Income_Category</th>\n",
              "      <th></th>\n",
              "      <th></th>\n",
              "    </tr>\n",
              "  </thead>\n",
              "  <tbody>\n",
              "    <tr>\n",
              "      <th>$120K +</th>\n",
              "      <td>19717.322558</td>\n",
              "      <td>4529.467675</td>\n",
              "    </tr>\n",
              "    <tr>\n",
              "      <th>$40K - $60K</th>\n",
              "      <td>5462.259832</td>\n",
              "      <td>4405.618994</td>\n",
              "    </tr>\n",
              "    <tr>\n",
              "      <th>$60K - $80K</th>\n",
              "      <td>10758.772967</td>\n",
              "      <td>4450.712553</td>\n",
              "    </tr>\n",
              "    <tr>\n",
              "      <th>$80K - $120K</th>\n",
              "      <td>15809.890945</td>\n",
              "      <td>4482.960261</td>\n",
              "    </tr>\n",
              "    <tr>\n",
              "      <th>Less than $40K</th>\n",
              "      <td>3754.404521</td>\n",
              "      <td>4363.420107</td>\n",
              "    </tr>\n",
              "  </tbody>\n",
              "</table>\n",
              "</div>\n",
              "      <button class=\"colab-df-convert\" onclick=\"convertToInteractive('df-bf9354e7-ed6a-46f2-bd6f-945b3d724782')\"\n",
              "              title=\"Convert this dataframe to an interactive table.\"\n",
              "              style=\"display:none;\">\n",
              "        \n",
              "  <svg xmlns=\"http://www.w3.org/2000/svg\" height=\"24px\"viewBox=\"0 0 24 24\"\n",
              "       width=\"24px\">\n",
              "    <path d=\"M0 0h24v24H0V0z\" fill=\"none\"/>\n",
              "    <path d=\"M18.56 5.44l.94 2.06.94-2.06 2.06-.94-2.06-.94-.94-2.06-.94 2.06-2.06.94zm-11 1L8.5 8.5l.94-2.06 2.06-.94-2.06-.94L8.5 2.5l-.94 2.06-2.06.94zm10 10l.94 2.06.94-2.06 2.06-.94-2.06-.94-.94-2.06-.94 2.06-2.06.94z\"/><path d=\"M17.41 7.96l-1.37-1.37c-.4-.4-.92-.59-1.43-.59-.52 0-1.04.2-1.43.59L10.3 9.45l-7.72 7.72c-.78.78-.78 2.05 0 2.83L4 21.41c.39.39.9.59 1.41.59.51 0 1.02-.2 1.41-.59l7.78-7.78 2.81-2.81c.8-.78.8-2.07 0-2.86zM5.41 20L4 18.59l7.72-7.72 1.47 1.35L5.41 20z\"/>\n",
              "  </svg>\n",
              "      </button>\n",
              "      \n",
              "  <style>\n",
              "    .colab-df-container {\n",
              "      display:flex;\n",
              "      flex-wrap:wrap;\n",
              "      gap: 12px;\n",
              "    }\n",
              "\n",
              "    .colab-df-convert {\n",
              "      background-color: #E8F0FE;\n",
              "      border: none;\n",
              "      border-radius: 50%;\n",
              "      cursor: pointer;\n",
              "      display: none;\n",
              "      fill: #1967D2;\n",
              "      height: 32px;\n",
              "      padding: 0 0 0 0;\n",
              "      width: 32px;\n",
              "    }\n",
              "\n",
              "    .colab-df-convert:hover {\n",
              "      background-color: #E2EBFA;\n",
              "      box-shadow: 0px 1px 2px rgba(60, 64, 67, 0.3), 0px 1px 3px 1px rgba(60, 64, 67, 0.15);\n",
              "      fill: #174EA6;\n",
              "    }\n",
              "\n",
              "    [theme=dark] .colab-df-convert {\n",
              "      background-color: #3B4455;\n",
              "      fill: #D2E3FC;\n",
              "    }\n",
              "\n",
              "    [theme=dark] .colab-df-convert:hover {\n",
              "      background-color: #434B5C;\n",
              "      box-shadow: 0px 1px 3px 1px rgba(0, 0, 0, 0.15);\n",
              "      filter: drop-shadow(0px 1px 2px rgba(0, 0, 0, 0.3));\n",
              "      fill: #FFFFFF;\n",
              "    }\n",
              "  </style>\n",
              "\n",
              "      <script>\n",
              "        const buttonEl =\n",
              "          document.querySelector('#df-bf9354e7-ed6a-46f2-bd6f-945b3d724782 button.colab-df-convert');\n",
              "        buttonEl.style.display =\n",
              "          google.colab.kernel.accessAllowed ? 'block' : 'none';\n",
              "\n",
              "        async function convertToInteractive(key) {\n",
              "          const element = document.querySelector('#df-bf9354e7-ed6a-46f2-bd6f-945b3d724782');\n",
              "          const dataTable =\n",
              "            await google.colab.kernel.invokeFunction('convertToInteractive',\n",
              "                                                     [key], {});\n",
              "          if (!dataTable) return;\n",
              "\n",
              "          const docLinkHtml = 'Like what you see? Visit the ' +\n",
              "            '<a target=\"_blank\" href=https://colab.research.google.com/notebooks/data_table.ipynb>data table notebook</a>'\n",
              "            + ' to learn more about interactive tables.';\n",
              "          element.innerHTML = '';\n",
              "          dataTable['output_type'] = 'display_data';\n",
              "          await google.colab.output.renderOutput(dataTable, element);\n",
              "          const docLink = document.createElement('div');\n",
              "          docLink.innerHTML = docLinkHtml;\n",
              "          element.appendChild(docLink);\n",
              "        }\n",
              "      </script>\n",
              "    </div>\n",
              "  </div>\n",
              "  "
            ]
          },
          "metadata": {},
          "execution_count": 55
        }
      ]
    },
    {
      "cell_type": "code",
      "source": [
        "ax =  temp4.plot.bar(y='Credit_Limit', ylabel='Credit Limit', figsize=(8, 5))\n",
        "temp4.plot(y='Total_Trans_Amt', c='k', ax=ax, use_index=False, secondary_y=True, mark_right=False)\n",
        "ax.right_ax.set_ylabel('Total Transaction Amount');\n"
      ],
      "metadata": {
        "colab": {
          "base_uri": "https://localhost:8080/",
          "height": 337
        },
        "id": "pbIXsgLT0S-2",
        "outputId": "97890928-86a2-410e-d233-283a517211dd"
      },
      "execution_count": null,
      "outputs": [
        {
          "output_type": "display_data",
          "data": {
            "text/plain": [
              "<Figure size 576x360 with 2 Axes>"
            ],
            "image/png": "[encoded data removed]"
          },
          "metadata": {
            "needs_background": "light"
          }
        }
      ]
    },
    {
      "cell_type": "markdown",
      "source": [
        "Dari grafik diatas dapat dilihat bahwa:\n",
        "\n",
        "**- Untuk kategori < 40K cenderung melakukan transaksi melebihi limit credit**\n",
        "\n",
        "**- Sementara untuk kategori 40-60K, amount transaksi hampir mendekati limit credit**"
      ],
      "metadata": {
        "id": "SwLRk0wm1uIo"
      }
    }
  ]
}